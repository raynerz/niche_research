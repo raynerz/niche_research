{
  "nbformat": 4,
  "nbformat_minor": 0,
  "metadata": {
    "colab": {
      "provenance": [],
      "authorship_tag": "ABX9TyO9R04o6rWuEY9DZ/LXlqC1",
      "include_colab_link": true
    },
    "kernelspec": {
      "name": "python3",
      "display_name": "Python 3"
    },
    "language_info": {
      "name": "python"
    }
  },
  "cells": [
    {
      "cell_type": "markdown",
      "metadata": {
        "id": "view-in-github",
        "colab_type": "text"
      },
      "source": [
        "<a href=\"https://colab.research.google.com/github/raynerz/niche_research/blob/main/Niche_Research.ipynb\" target=\"_parent\"><img src=\"https://colab.research.google.com/assets/colab-badge.svg\" alt=\"Open In Colab\"/></a>"
      ]
    },
    {
      "cell_type": "code",
      "execution_count": null,
      "metadata": {
        "id": "Q6g9yR3BEyao"
      },
      "outputs": [],
      "source": [
        "#https://github.com/googleapis/google-api-python-client\n",
        "!pip install google-api-python-client"
      ]
    },
    {
      "cell_type": "markdown",
      "source": [
        "# Build Youtube API\n"
      ],
      "metadata": {
        "id": "Wv2dUEWBFE_K"
      }
    },
    {
      "cell_type": "code",
      "source": [
        "from googleapiclient.discovery import build\n",
        "\n",
        "api_key='Replace this with your own API key' #TODO\n",
        "\n",
        "youtube = build('youtube', 'v3', developerKey=api_key)"
      ],
      "metadata": {
        "id": "V-Z8HI2fFCK5"
      },
      "execution_count": 2,
      "outputs": []
    },
    {
      "cell_type": "markdown",
      "source": [
        "# Functions"
      ],
      "metadata": {
        "id": "IGoUZxvoFgeA"
      }
    },
    {
      "cell_type": "markdown",
      "source": [
        "## 1. Retrieve video ID's from a youtube search query"
      ],
      "metadata": {
        "id": "BfXcI3jSHMDj"
      }
    },
    {
      "cell_type": "code",
      "source": [
        "def get_video_ids(youtube, query, published_after, region_code, video_duration, max_results):\n",
        "    \"\"\"\n",
        "    Retrieve video IDs from YouTube based on a specified search query and filtering parameters.\n",
        "\n",
        "    Parameters:\n",
        "    - youtube: The YouTube Data API service obtained by calling build('youtube', 'v3', developerKey=api_key).\n",
        "    - query: A string representing the search query for which videos are to be retrieved.\n",
        "    - published_after: A string representing the date and time in ISO 8601 format to filter videos published after this time.\n",
        "    - region_code: A string representing the region code to focus the search results on a specific region.\n",
        "    - videoDuration: A string representing the duration filter for videos, such as 'any', 'long', 'medium', or 'short'.\n",
        "    - maxResults: An integer representing the maximum number of video IDs to retrieve.\n",
        "\n",
        "    Returns:\n",
        "    - A list of video IDs obtained from the search results.\n",
        "    \"\"\"\n",
        "    # Set parameters for the search\n",
        "    response = youtube.search().list(\n",
        "        q=query,\n",
        "        part='snippet',\n",
        "        type=\"video\",\n",
        "        order=\"viewCount\",\n",
        "        publishedAfter=published_after,\n",
        "        regionCode=region_code,\n",
        "        videoDuration=video_duration,\n",
        "        maxResults=max_results\n",
        "    ).execute()\n",
        "\n",
        "    # Process the search results\n",
        "    video_ids = []\n",
        "    for item in response['items']:\n",
        "        if item['id']['kind'] == 'youtube#video':\n",
        "            video_ids.append(item['id']['videoId'])\n",
        "\n",
        "    return video_ids\n"
      ],
      "metadata": {
        "id": "g5HYdtTyFPhu"
      },
      "execution_count": 3,
      "outputs": []
    },
    {
      "cell_type": "markdown",
      "source": [
        "## 2. Retrieve detailed information of the IDs you just searched for"
      ],
      "metadata": {
        "id": "Qbz9muIGF9Ji"
      }
    },
    {
      "cell_type": "code",
      "source": [
        "def get_video_info(youtube, video_ids):\n",
        "    \"\"\"\n",
        "    Retrieve detailed information for a list of YouTube videos based on their video IDs.\n",
        "\n",
        "    Parameters:\n",
        "    - youtube: The YouTube Data API service obtained by calling build('youtube', 'v3', developerKey=api_key).\n",
        "    - video_ids: A list of strings containing the video IDs for which information is to be retrieved.\n",
        "\n",
        "    Returns:\n",
        "    - A list of dictionaries containing detailed information for each video, including its ID, title, duration in ISO 8601 format, and view count.\n",
        "    \"\"\"\n",
        "\n",
        "    # Convert list of video IDs to a comma-separated string\n",
        "    video_ids_str = ','.join(video_ids)\n",
        "\n",
        "    # Make a request to the videos.list endpoint with the video IDs, 'snippet', 'contentDetails', and 'statistics' parts\n",
        "    video_request = youtube.videos().list(\n",
        "        part='snippet,contentDetails,statistics',\n",
        "        id=video_ids_str\n",
        "    )\n",
        "\n",
        "    response = video_request.execute()\n",
        "\n",
        "    video_info = []\n",
        "\n",
        "    # Process the response\n",
        "    for item in response['items']:\n",
        "        video_id = item['id']\n",
        "        title = item['snippet']['title']\n",
        "        published_at = item['snippet']['publishedAt']\n",
        "        duration_iso8601 = item['contentDetails']['duration']\n",
        "        views = item['statistics']['viewCount'] if 'viewCount' in item['statistics'] else 'Not available'\n",
        "\n",
        "        video_data = {\n",
        "            'video_id': video_id,\n",
        "            'title': title,\n",
        "            'duration': duration_iso8601,\n",
        "            'published_at': published_at,\n",
        "            'views': views\n",
        "        }\n",
        "\n",
        "        video_info.append(video_data)\n",
        "\n",
        "    return video_info"
      ],
      "metadata": {
        "id": "DDjTOOtrFeJn"
      },
      "execution_count": 4,
      "outputs": []
    },
    {
      "cell_type": "markdown",
      "source": [
        "## 3. Pretty print video data in a markdown table"
      ],
      "metadata": {
        "id": "NinRgt2DGAw5"
      }
    },
    {
      "cell_type": "code",
      "source": [
        "def print_video_data_as_markdown_table(video_info):\n",
        "  # Determine maximum lengths for each column\n",
        "  max_lengths = {\n",
        "      'video_id': len(max((data['video_id'] for data in video_info), key=len)),\n",
        "      'views': len(max((str(data['views']) for data in video_info), key=len)),\n",
        "      'duration': len(max((data['duration'] for data in video_info), key=len)),\n",
        "      'published_at': len(max((data['published_at'] for data in video_info), key=len)),\n",
        "      'title': len(max((data['title'] for data in video_info), key=len)),\n",
        "  }\n",
        "\n",
        "  # Print table headers\n",
        "  print(\"|\", end=\" \")\n",
        "  for column, length in max_lengths.items():\n",
        "      print(f\"{column.capitalize().ljust(length)} |\", end=\" \")\n",
        "\n",
        "  # Print table rows\n",
        "  for video_data in video_info:\n",
        "      print(\"|\", end=\" \")\n",
        "      for column, length in max_lengths.items():\n",
        "          value = str(video_data[column]).ljust(length)\n",
        "          print(f\"{value} |\", end=\" \")\n",
        "      print()"
      ],
      "metadata": {
        "id": "G-wJVcy5GE7b"
      },
      "execution_count": 5,
      "outputs": []
    },
    {
      "cell_type": "markdown",
      "source": [
        "#Usage"
      ],
      "metadata": {
        "id": "aRrrJCGkGeqW"
      }
    },
    {
      "cell_type": "code",
      "source": [
        "video_ids = get_video_ids(youtube,\n",
        "                          query=\"Space\",\n",
        "                          published_after=\"2023-08-01T00:00:00Z\",\n",
        "                          region_code=\"US\",\n",
        "                          video_duration=\"long\",\n",
        "                          max_results=25)"
      ],
      "metadata": {
        "id": "2K620PZJGSUB"
      },
      "execution_count": 6,
      "outputs": []
    },
    {
      "cell_type": "code",
      "source": [
        "video_info = get_video_info(youtube, video_ids)"
      ],
      "metadata": {
        "id": "XOQLKXftGWsj"
      },
      "execution_count": 7,
      "outputs": []
    },
    {
      "cell_type": "code",
      "source": [
        "print_video_data_as_markdown_table(video_info)"
      ],
      "metadata": {
        "colab": {
          "base_uri": "https://localhost:8080/"
        },
        "id": "9SohipgyGY3q",
        "outputId": "05035d5e-3f3d-4fb8-83a3-01ea93648aab"
      },
      "execution_count": 8,
      "outputs": [
        {
          "output_type": "stream",
          "name": "stdout",
          "text": [
            "| Video_id    | Views   | Duration   | Published_at         | Title                                                                                         | | uwekHBt4KIs | 9417486 | PT21M24S   | 2023-08-19T14:59:56Z | Mystery of Apollo 13 Mission | Lost in Space | Dhruv Rathee                                   | \n",
            "| LlY79zjud-Q | 8697692 | PT1H50M    | 2023-10-14T17:30:41Z | The Ring of Fire: 2023 Annular Solar Eclipse (Official NASA Broadcast)                        | \n",
            "| udzaNR8o-48 | 7921428 | PT2H56M52S | 2023-08-13T20:00:13Z | The Universe: The Most DANGEROUS Phenomena in Our Solar System *3 Hour Marathon*              | \n",
            "| _IcgGYZTXQw | 7437877 | PT1H50M56S | 2023-09-02T07:41:32Z | Launch of PSLV-C57/Aditya-L1 Mission from Satish Dhawan Space Centre (SDSC) SHAR, Sriharikota | \n",
            "| R18q4F6Lqnk | 5232239 | PT21M16S   | 2023-08-22T16:41:40Z | Apollo Astronaut Breaks In Tears: \"The Moon Is NOT What You Think!\"                           | \n",
            "| FXpIXQf6Y7w | 5046836 | PT4H11M51S | 2023-10-14T21:04:25Z | ECLIPSE SOLAR NO BRASIL 2023                                                                  | \n",
            "| 0qq69spGE_k | 3742463 | PT55M6S    | 2023-08-10T15:49:33Z | Watch: Virgin Galactic launches first spaceflight with tourists | NBC News                    | \n",
            "| o48X3_XQ9to | 2379276 | PT32M24S   | 2023-08-15T18:10:12Z | THE HUMAN FUTURE: A Case for Optimism                                                         | \n",
            "| ATHvOdyw_UQ | 1582908 | PT41M5S    | 2023-08-13T19:24:13Z | What Is Beyond Edge Of The Universe? - RYV                                                    | \n",
            "| Kdwyqctp908 | 1539606 | PT3H20M50S | 2023-09-24T17:40:12Z | OSIRIS-REx Asteroid Sample Return (Official 4K NASA Broadcast)                                | \n",
            "| 74LVHRx6X-0 | 1503258 | PT21M33S   | 2023-10-01T20:45:00Z | We Finally Escaped Space                                                                      | \n",
            "| QD2XDoeT8SI | 1389314 | PT4H30M3S  | 2023-08-26T08:26:10Z | NASA's SpaceX Crew-7 Launch (Official NASA Broadcast in 4K)                                   | \n",
            "| EilrPP2ICd0 | 1270199 | PT21M7S    | 2023-08-14T19:20:19Z | Neil deGrasse Tyson Panicking Over Declassified Photos From Venus By The Soviet Union!        | \n",
            "| qsLk27XBdNU | 925572  | PT25M10S   | 2023-08-03T23:53:14Z | Brian Cox Breaks Silence: \"The Universe Existed Before Big Bang\"                              | \n",
            "| r5DgmLJdKWw | 844872  | PT21M25S   | 2023-10-12T22:00:27Z | We Dropped Rexy From Space And Tried To Catch Him                                             | \n",
            "| c08Zzc0xepI | 820409  | PT44M27S   | 2023-09-08T22:00:18Z | The Universe: New Evidence of Parallel Worlds (S3, E2) | Full Episode                         | \n",
            "| SGb7PgRe0u8 | 760767  | PT23M3S    | 2023-09-06T06:45:01Z | GTA 5 : Franklin's First Experience On Moon And Space With Shinchan in GTA 5 ! (GTA 5 mods)   | \n",
            "| US5KepzFYIw | 749663  | PT27M24S   | 2023-08-23T09:30:08Z | IL PRIMO VIDEO IN 4 ❤️ LA NOSTRA MORNING ROUTINE!!🪐                                           | \n",
            "| 34OJXQeIn64 | 699177  | PT1H34M31S | 2023-09-24T13:35:06Z | What Is Beyond Edge Of The Universe?                                                          | \n",
            "| _eVJPSvllhs | 620993  | PT22M13S   | 2023-08-28T22:43:58Z | 7 MINUTES AGO: Webb Telescope Revealed First Ever, Real Image Of Oumuamua                     | \n",
            "| 90N6IZnV85c | 614024  | PT43M24S   | 2023-10-11T16:45:00Z | Satellites: Crimes Against Space                                                              | \n",
            "| iwOxnt7PXN0 | 594087  | PT22M37S   | 2023-10-04T22:00:21Z | Voyager 1 Suddenly Received an ALARMING REPLY From a Nearby Object In Space!                  | \n",
            "| cYwisxS-3kg | 588279  | PT21M33S   | 2023-08-29T19:03:05Z | Soviet Astronaut Breaks Silence Before His Death And Reveals TERRIFYING Secret                | \n",
            "| npIDMxrzm_o | 558622  | PT2H12M5S  | 2023-10-13T15:56:18Z | Psyche Launches to a Metal Asteroid (Official NASA Broadcast)                                 | \n",
            "| xVjKB0_NyZM | 549986  | PT1H2M27S  | 2023-09-05T19:17:31Z | Biggest Scientific Discoveries in Space You Missed in 2023                                    | \n"
          ]
        }
      ]
    },
    {
      "cell_type": "code",
      "source": [],
      "metadata": {
        "id": "PniPszthHX6k"
      },
      "execution_count": null,
      "outputs": []
    }
  ]
}